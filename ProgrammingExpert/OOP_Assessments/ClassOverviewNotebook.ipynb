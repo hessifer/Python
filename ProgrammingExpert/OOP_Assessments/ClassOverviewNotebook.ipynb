{
 "cells": [
  {
   "cell_type": "markdown",
   "metadata": {},
   "source": [
    "# Object Oriented Programming"
   ]
  },
  {
   "cell_type": "markdown",
   "metadata": {},
   "source": [
    "### Creating Classes"
   ]
  },
  {
   "cell_type": "code",
   "execution_count": 1,
   "metadata": {},
   "outputs": [],
   "source": [
    "# to create a class we use the **class** keyword followed by a name for the class.\n",
    "# the name should be in PascalCase by convention\n",
    "\n",
    "class Vehicle:\n",
    "    pass"
   ]
  },
  {
   "cell_type": "markdown",
   "metadata": {},
   "source": [
    "#### Class Called Vehicle\n",
    "1. Data Type is Vehicle\n",
    "2. Uses PascalCase by Convention"
   ]
  },
  {
   "cell_type": "code",
   "execution_count": 2,
   "metadata": {},
   "outputs": [
    {
     "name": "stdout",
     "output_type": "stream",
     "text": [
      "<class '__main__.Vehicle'>\n"
     ]
    }
   ],
   "source": [
    "vehicle = Vehicle()\n",
    "print(type(vehicle))"
   ]
  },
  {
   "cell_type": "code",
   "execution_count": 4,
   "metadata": {},
   "outputs": [
    {
     "name": "stdout",
     "output_type": "stream",
     "text": [
      "Jeep\n"
     ]
    }
   ],
   "source": [
    "class Vehicle:\n",
    "    def __init__(self, make):\n",
    "        # instance attribute called make\n",
    "        self.make = make\n",
    "\n",
    "\n",
    "# create an instance of the Vehicle class called v1 with a make of Jeep\n",
    "v1 = Vehicle(\"Jeep\")\n",
    "\n",
    "# To retrieve the make of v1 (make is an attribute of v1)\n",
    "print(v1.make)"
   ]
  },
  {
   "cell_type": "markdown",
   "metadata": {},
   "source": [
    "#### Constructor, Attribute, Instance, Encapsulation\n",
    "* the __constructor__ of a class is a function defined within the class that will be called when a new instance is created. In Python, the __constructor__ is implemented with the __init__ method. Methods with '__' in front of them are referred to as **dunder methods**\n",
    "\n",
    "* __attribute__ is data (object) associated with an instance of a class or the class itself. keep in mind almost everything in Python is an object. **Class attributes** are shared by all instances of a class. **Instance attributes** may have a different value for each and every instance that was created from a class.\n",
    "\n",
    "* __instance__ of a class in an object created from that class's \"blueprint\". For example, ```Vehicle(\"Jeep\")``` will return an instance of ```Vehicle``` class.\n",
    "\n",
    "* __Encapsulation__, in OOP, refers to preventing (hiding) the details of a class in order to simplify the way the class might be used, or to make it harder to misues the functionality that is exposed through certain methods or properties (getters / setters)"
   ]
  },
  {
   "cell_type": "markdown",
   "metadata": {},
   "source": [
    "### Methods\n",
    "* a __method__ is a function defined inside a __class__ definition. There are three kinds of methods:\n",
    "- instance methods\n",
    "- class methods\n",
    "- static methods"
   ]
  },
  {
   "cell_type": "code",
   "execution_count": 6,
   "metadata": {},
   "outputs": [
    {
     "name": "stdout",
     "output_type": "stream",
     "text": [
      "None\n"
     ]
    }
   ],
   "source": [
    "class Person:\n",
    "    def __init__(self, name):\n",
    "        self.name = name\n",
    "        self.age = None\n",
    "\n",
    "    def say_hello(self):\n",
    "        print(f\"Hello, {self.name}\")\n",
    "\n",
    "    def set_age(self, age):\n",
    "        self.age = age\n",
    "\n",
    "    def get_age(self):\n",
    "        return self.age\n",
    "\n",
    "    def sup(self):\n",
    "        raise Not\n",
    "\n",
    "p1 = Person(\"Charles\")\n",
    "p2 = Person(\"Bob\")\n",
    "print(p2.get_age())"
   ]
  },
  {
   "cell_type": "markdown",
   "metadata": {},
   "source": [
    "#### Properties\n",
    "Other OOP languages have public, private access modifiers; however, Python does not support this convention. It is possible to mimic this behavior with the use of '_attribute' and define a getter and setter method in your class.\n",
    "\n",
    "__below__ we define a Person class and in the constructor we have 2 attributes. One public attribute (name) and one private attribute (_salary). We then use a setter and getter method to work with our  private attribute. Additionally, we can maintain that _salary is always greater than zero by rasising an exception in our setter method."
   ]
  },
  {
   "cell_type": "code",
   "execution_count": 19,
   "metadata": {},
   "outputs": [
    {
     "name": "stdout",
     "output_type": "stream",
     "text": [
      "Charles\n",
      "Charles makes a salary of $2,000.00 per year.\n"
     ]
    }
   ],
   "source": [
    "class Person:\n",
    "    def __init__(self, name):\n",
    "        self.name = name\n",
    "        self._salary = None\n",
    "\n",
    "    def set_salary(self, salary):\n",
    "        if salary < 0:\n",
    "            raise ValueError(\"Salary must be greater than 0.\")\n",
    "        self._salary = salary\n",
    "\n",
    "    def get_salary(self):\n",
    "        return round(self._salary)\n",
    "\n",
    "p = Person(\"Charles\")\n",
    "print(p.name)\n",
    "# don't use p._salary = some_value -> even though you can, by convention you should honor the '_' that indicates the attribute is **private**\n",
    "p.set_salary(2000)\n",
    "print(f\"{p.name} makes a salary of ${p.get_salary():,.2f} per year.\")"
   ]
  },
  {
   "cell_type": "markdown",
   "metadata": {},
   "source": [
    "But **wait** there is more __:`)__ \n",
    "Python allows you to access your attributes without calling the '_'. Historically you defined a property using the ```property(__name_of_getter__, __name_of_setter__)``` method\n",
    "\n",
    "Python now support the use of a __```@property```__ decorator\n",
    "```\n",
    "@property\n",
    "def salary(self):\n",
    "    return round(self._salary)\n",
    "\n",
    "@salary.setter\n",
    "def salary(self, salary):\n",
    "    self._salary = salary\n",
    "```\n",
    "\n",
    "**Note**\n",
    "1. your getter needs to be defined first using the name of your attribute as the name of the method and decorated as a @property.\n",
    "2. your setter needs to come after your getter using the same naming convention and be decorated as __attribute.setter__\n",
    "3. ensure your attribute is defined as private ___attribute__\n",
    "\n",
    "__see code example below__"
   ]
  },
  {
   "cell_type": "code",
   "execution_count": 25,
   "metadata": {},
   "outputs": [
    {
     "name": "stdout",
     "output_type": "stream",
     "text": [
      "Charles\n",
      "Charles makes a salary of $2,000.00 per year.\n"
     ]
    }
   ],
   "source": [
    "class Person:\n",
    "    def __init__(self, name):\n",
    "        self.name = name\n",
    "        self._salary = None\n",
    "\n",
    "    @property\n",
    "    def salary(self):\n",
    "        return round(self._salary)\n",
    "    \n",
    "    @salary.setter\n",
    "    def salary(self, salary):\n",
    "        if salary < 0:\n",
    "            raise ValueError(\"Salary must be greater than 0.\")\n",
    "        self._salary = salary\n",
    "\n",
    "    # salary = property(get_salary, set_salary)  # legacy way of creating a property\n",
    "\n",
    "p = Person(\"Charles\")\n",
    "print(p.name)\n",
    "p.salary = 2000\n",
    "print(f\"{p.name} makes a salary of ${p.salary:,.2f} per year.\")"
   ]
  },
  {
   "cell_type": "markdown",
   "metadata": {},
   "source": [
    "#### Class Methods and Attributes\n",
    "* an __attribute__ is an __object__ that belongs either to a class, or to an instance of a that class. Attributes (instance) of an object can be referenced using ```.``` notation like we did above with ```p.salary```\n",
    "\n",
    "* A __class attribute__ (also referred to as a _static attribute_) is an attribute that is associtated with a class, not an instance of a class. Class attributes can be modified and accessed by using the class name directly or by using an instance of the class. **Typically** class attributes are defined at the top of the class, inside the class body.\n",
    "\n",
    "* a __class method__ is a method that has a mandatory ```cls``` parameter (instead of __self__) and can only access class attributes and other class methods. It does not act on an instance of the class, but on the class itself. Class methods are denoted with the ```@classmethod``` decorator."
   ]
  },
  {
   "cell_type": "code",
   "execution_count": 40,
   "metadata": {},
   "outputs": [
    {
     "name": "stdout",
     "output_type": "stream",
     "text": [
      "electirc\n",
      "1\n",
      "1\n",
      "4\n",
      "1\n"
     ]
    }
   ],
   "source": [
    "class Car:\n",
    "    # Class attribute\n",
    "    number_of_cars = 0\n",
    "    \n",
    "    def __init__(self, make, model):\n",
    "        self.make = make\n",
    "        self.model = model\n",
    "        self._motor = \"electirc\"\n",
    "        Car.number_of_cars += 1\n",
    "\n",
    "    @property\n",
    "    def motor(self):\n",
    "        return (self._motor)\n",
    "\n",
    "    @motor.setter\n",
    "    def motor(self, type):\n",
    "        valid_motor_types = [\"electirc\", \"v6\", \"v8\", \"hybrid\"]\n",
    "        \n",
    "        if not type.lower() in valid_motor_types:\n",
    "            raise ValueError(f\"Invalid motor type provided, valid types: {valid_motor_types}\")\n",
    "        self._motor = type\n",
    "\n",
    "    @classmethod\n",
    "    def update_number_of_cars(cls, num_of_cars):\n",
    "        if num_of_cars < 0:\n",
    "            raise ValueError(\"Number of cars should be greater than or equal to zero.\")\n",
    "        cls.number_of_cars = num_of_cars\n",
    "        # try and access an instance attribute, class methods can only access other class methods or class attributes\n",
    "        # print(self.make)\n",
    "\n",
    "\n",
    "c1 = Car(\"Jeep\", \"Wrangler\")\n",
    "print(c1.motor)\n",
    "# c1.motor = \"v10\"  # will raise ValueError exception\n",
    "\n",
    "# examples of how you can access a Class attribute (directly through the Class or Instance of that Class)\n",
    "print(Car.number_of_cars)\n",
    "print(c1.number_of_cars)\n",
    "\n",
    "# use Class method directly on Class and via an instance of the Car class to update number of cars\n",
    "Car.update_number_of_cars(4)\n",
    "print(Car.number_of_cars)\n",
    "c1.update_number_of_cars(1)  # operates on the Class attribute even though we invoke it from an instance of the Class\n",
    "print(c1.number_of_cars)\n"
   ]
  },
  {
   "cell_type": "markdown",
   "metadata": {},
   "source": [
    "### Static Methods\n",
    "\n",
    "* a __static__ method is defined within a class but should not reference anything relevant to that class specifically, except for other static methods.\n",
    "\n",
    "* for the most part, __static__ methods should only be used for **pure** functions, which do not use temp values outside their own scope and exclusively transform a set of inputs into some outputs. For example a method that converts kilometers to miles should most likely be static. \n",
    "\n",
    "* __static__ methods are denoted using the ```@staticmethod``` decorator\n",
    "\n",
    "* __static__ methods can only be called by using the class name they belong to or from an instance of that class.\n",
    "\n",
    "* __static__ methods do not have any mandatory parameters and cannot access instance attributes, class attributes, or methods.\n"
   ]
  },
  {
   "cell_type": "code",
   "execution_count": 47,
   "metadata": {},
   "outputs": [
    {
     "name": "stdout",
     "output_type": "stream",
     "text": [
      "89.0\n",
      "91.0\n"
     ]
    }
   ],
   "source": [
    "class Student:\n",
    "    grade_bump = 2.0\n",
    "    \n",
    "    def __init__(self, name, grades=[]):\n",
    "        self.name = name\n",
    "        self.grades = grades\n",
    "    \n",
    "    def average(self):\n",
    "        return sum(self.grades) / len(self.grades)\n",
    "\n",
    "    @classmethod\n",
    "    def average_from_grades_plus_bump(cls, grades):\n",
    "        average = cls.average_from_grades(grades)\n",
    "        return min(average + cls.grade_bump, 100)\n",
    "\n",
    "    @staticmethod\n",
    "    def average_from_grades(grades):\n",
    "        return sum(grades) / len(grades)\n",
    "\n",
    "s1 = Student(\"Charles\", [98, 78, 89, 88, 92])\n",
    "print(s1.average())\n",
    "print(s1.average_from_grades_plus_bump(s1.grades))\n"
   ]
  },
  {
   "cell_type": "markdown",
   "metadata": {},
   "source": [
    "#### Inheritance\n",
    "\n",
    "* Child Class - When class ```A``` inherits from class ```B```, we say that class ```A``` is a **child class of** ```B```\n",
    "\n",
    "* Parent Class - When class ```A``` inherits from class ```B```, we say that class ```B``` is a **parent class** of ```A```\n",
    "\n",
    "* Polymorphism - Poly means many, morphism means forms. In programming, polymorphism refers to the ability of an object exhibit different behaviours based on the context it's used in.\n",
    "\n",
    "* Method Overriding - Method **overriding** is when a programmer re-defines a method on a class that was already defined in its **parent class(es)**\n",
    "\n",
    "* If you want to access / override methods from the **super class** use the ```super()``` notation"
   ]
  },
  {
   "cell_type": "code",
   "execution_count": 57,
   "metadata": {},
   "outputs": [
    {
     "name": "stdout",
     "output_type": "stream",
     "text": [
      "--------\n",
      "Hi my name is Charles Smith\n",
      "--------\n",
      "test\n",
      "2590\n",
      "Charles\n",
      "Smith\n",
      "Hi my name is Mike Cat\n"
     ]
    }
   ],
   "source": [
    "from random import randrange as rr\n",
    "\n",
    "class Person:\n",
    "    def __init__(self, first_name, last_name):\n",
    "        self.first_name = first_name\n",
    "        self.last_name = last_name\n",
    "\n",
    "    def say_hello(self):\n",
    "        print(f\"Hi my name is {self.first_name} {self.last_name}\")\n",
    "\n",
    "\n",
    "class Employee(Person):  # Employee class inherits from Person\n",
    "    # override the parent class constructor\n",
    "    def __init__(self, first_name, last_name, employee_id):\n",
    "        # use parent class constructor to setup attributes\n",
    "        super().__init__(first_name, last_name)\n",
    "        self.employee_id = employee_id\n",
    "\n",
    "    def test(self):\n",
    "        print(\"test\")\n",
    "\n",
    "    # override the say_hello() method inherited from the Person class\n",
    "    def say_hello(self):\n",
    "        print(\"-\" * 8)\n",
    "        # call super class say_hello method\n",
    "        super().say_hello()\n",
    "        print(\"-\" * 8)\n",
    "\n",
    "e = Employee(\"Charles\", \"Smith\", rr(100) * 35)\n",
    "e.say_hello()\n",
    "e.test()\n",
    "print(e.employee_id)\n",
    "print(e.first_name)\n",
    "print(e.last_name)\n",
    "\n",
    "p = Person(\"Mike\", \"Cat\")\n",
    "p.say_hello()\n",
    "\n",
    "    "
   ]
  },
  {
   "cell_type": "code",
   "execution_count": 64,
   "metadata": {},
   "outputs": [
    {
     "name": "stdout",
     "output_type": "stream",
     "text": [
      "--------\n",
      "Hi my name is Charles Smith\n",
      "--------\n",
      "test\n",
      "525\n",
      "Charles\n",
      "Smith\n",
      "Hi my name is Mike Cat\n",
      "50000\n",
      "True\n",
      "True\n",
      "False\n",
      "True\n"
     ]
    }
   ],
   "source": [
    "from random import randrange as rr\n",
    "\n",
    "class Person:  # Person is a Object \n",
    "    def __init__(self, first_name, last_name):\n",
    "        self.first_name = first_name\n",
    "        self.last_name = last_name\n",
    "\n",
    "    def say_hello(self):\n",
    "        print(f\"Hi my name is {self.first_name} {self.last_name}\")\n",
    "\n",
    "\n",
    "class Employee(Person):  # Employee class inherits from Person (Employee is a Person)\n",
    "    # override the parent class constructor\n",
    "    def __init__(self, first_name, last_name, employee_id):\n",
    "        # use parent class constructor to setup attributes\n",
    "        super().__init__(first_name, last_name)\n",
    "        self.employee_id = employee_id\n",
    "\n",
    "    def test(self):\n",
    "        print(\"test\")\n",
    "\n",
    "    # override the say_hello() method inherited from the Person class\n",
    "    def say_hello(self):\n",
    "        print(\"-\" * 8)\n",
    "        # call super class say_hello method\n",
    "        super().say_hello()\n",
    "        print(\"-\" * 8)\n",
    "\n",
    "class Manager(Employee):  # Manager is a Employee\n",
    "    def __init__(self, first_name, last_name, salary, department):\n",
    "        super().__init__(first_name, last_name, salary)\n",
    "        self.department = department\n",
    "\n",
    "class Owner(Person):  # Owner is a Person\n",
    "    def __init__(self, first_name, last_name, net_worth):\n",
    "        super().__init__(first_name, last_name)\n",
    "        self.net_worth = net_worth\n",
    "\n",
    "e = Employee(\"Charles\", \"Smith\", rr(100) * 35)\n",
    "e.say_hello()\n",
    "e.test()\n",
    "print(e.employee_id)\n",
    "print(e.first_name)\n",
    "print(e.last_name)\n",
    "\n",
    "p = Person(\"Mike\", \"Cat\")\n",
    "p.say_hello()\n",
    "\n",
    "o = Owner(\"Charles\", \"Manager\", 50000)\n",
    "print(o.net_worth)\n",
    "\n",
    "print(isinstance(o, (Owner, Person)))\n",
    "print(isinstance(p, (Person)))\n",
    "print(isinstance(p, (Manager)))\n",
    "\n",
    "\n",
    "m = Manager(\"Charles\", \"Smith\", 50000, \"Sports\")\n",
    "print(isinstance(m, (Manager, Employee, Person)))"
   ]
  }
 ],
 "metadata": {
  "kernelspec": {
   "display_name": "base",
   "language": "python",
   "name": "python3"
  },
  "language_info": {
   "codemirror_mode": {
    "name": "ipython",
    "version": 3
   },
   "file_extension": ".py",
   "mimetype": "text/x-python",
   "name": "python",
   "nbconvert_exporter": "python",
   "pygments_lexer": "ipython3",
   "version": "3.11.4"
  },
  "orig_nbformat": 4
 },
 "nbformat": 4,
 "nbformat_minor": 2
}
